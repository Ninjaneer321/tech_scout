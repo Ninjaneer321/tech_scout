{
 "cells": [
  {
   "cell_type": "markdown",
   "metadata": {},
   "source": [
    "# Neo4j Example\n",
    "Simple Neo4j example.\n",
    "\n",
    "## Installation\n",
    "1. Run requirements: `pip install -r requirements.txt`\n",
    "\n",
    "2. Neo4j 5 requires Oracle Java 17 or OpenJDK 17\n",
    "\n",
    "3. Download and install Neo4J Community Edition for your specific operating system: https://neo4j.com/download-center/#community\n",
    "\n",
    "        Windows:\n",
    "        * Download and decompress zip file onto local drive\n",
    "\n",
    "        * cd into neo4j/bin directory\n",
    "\n",
    "        * Run neo4j in (Windows) console: \n",
    "\n",
    "            `neo4j.bat console`\n",
    "\n",
    "        * Open Neo4j web console: http://localhost:7474/\n",
    "\n",
    "\n",
    "        Ubuntu:\n",
    "        * Follow Installation Instructions at:\n",
    "\n",
    "            https://neo4j.com/docs/operations-manual/current/installation/linux/debian/\n",
    "\n",
    "        * Start Neo4j (NOTE: systemctl does not work properly on Windows Subsystem for Linux (WSL)):\n",
    "\n",
    "            squiro1@ubuntu:~/home/squiro1$ sudo service neo4j start\n",
    "\n",
    "        * Open Neo4j web console: http://localhost:7474/\n",
    "\n",
    "            Default username and password are both 'neo4j'.\n",
    "\n",
    "        * Stop Neo4j service:\n",
    "\n",
    "            squiro1@ubuntu:~/home/squiro1$ sudo service neo4j stop\n",
    "\n",
    "\n",
    "8. Run Jupyter: `jupyter notebook`\n",
    "\n",
    "# Running and Monitoring Graph\n",
    "Note that as you create nodes and relationships, you can check the Neo4j web console to view the changes as shown here: \n",
    "\n",
    "![Alt](screenshot.png \"Screenshot\")\n",
    "\n",
    "However, we also display the graphs below in Jupyter using neo4jupyter."
   ]
  },
  {
   "cell_type": "code",
   "execution_count": 16,
   "metadata": {},
   "outputs": [],
   "source": [
    "from py2neo import Graph\n",
    "\n",
    "graph = Graph()"
   ]
  },
  {
   "cell_type": "code",
   "execution_count": 17,
   "metadata": {},
   "outputs": [],
   "source": [
    "# Delete existing graph\n",
    "graph.delete_all()"
   ]
  },
  {
   "cell_type": "code",
   "execution_count": 18,
   "metadata": {},
   "outputs": [],
   "source": [
    "from py2neo import Node\n",
    "\n",
    "steve = Node(\"Advisor\", name=\"Steve\", role=\"Detailee\", location=\"DHS\")\n",
    "farrokh = Node(\"Advisor\", name=\"Farrokh\", role=\"IPA\", location=\"JPL\")\n",
    "sean = Node(\"Advisor\", name=\"Sean\", role=\"IPA\", location=\"BYU\")\n",
    "ryan = Node(\"Advisor\", name=\"Ryan\", role=\"Detailee\", location=\"HSI\")\n",
    "ed = Node(\"Advisor\", name=\"Ed\", role=\"Detailee\", location=\"CBP\")\n",
    "farhana = Node(\"Intern\", name=\"Farhana\", role=\"Student\", location=\"University of Maryland\")\n",
    "\n",
    "dark_math = Node(\"Publication\", name=\"Dark Math\", publisher=\"MIT\")\n",
    "patterns_pi = Node(\"Publication\", name=\"Patterns in Pi\", publisher=\"SIAM\")\n",
    "\n",
    "graph.create(steve | farrokh | sean | ryan | ed | farhana | dark_math | patterns_pi)"
   ]
  },
  {
   "cell_type": "code",
   "execution_count": 19,
   "metadata": {},
   "outputs": [],
   "source": [
    "from py2neo import Relationship\n",
    "\n",
    "graph.create(Relationship(steve, \"WORKS_FOR\", farrokh))\n",
    "graph.create(Relationship(ryan, \"WORKS_FOR\", sean))\n",
    "graph.create(Relationship(steve, \"AMAZED_BY\", farhana))\n",
    "graph.create(Relationship(farrokh, \"INTRIGUED_BY\", farhana))\n",
    "graph.create(Relationship(sean, \"WONDER-STRUCK_BY\", farhana))\n",
    "graph.create(Relationship(ed, \"FASCINATED_BY\", farhana))\n",
    "graph.create(Relationship(ryan, \"IMPRESSED_BY\", farhana))\n",
    "graph.create(Relationship(farhana, \"AUTHORED\", dark_math))\n",
    "graph.create(Relationship(farhana, \"AUTHORED\", patterns_pi))"
   ]
  },
  {
   "cell_type": "code",
   "execution_count": 20,
   "metadata": {},
   "outputs": [
    {
     "data": {
      "application/javascript": "var link = document.createElement(\"link\");\n\tlink.rel = \"stylesheet\";\n\tlink.type = \"text/css\";\n\tlink.href = \"https://cdnjs.cloudflare.com/ajax/libs/vis/4.8.2/vis.css\";\n\tdocument.head.appendChild(link);\nrequire.config({     paths: {         vis: '//cdnjs.cloudflare.com/ajax/libs/vis/4.8.2/vis.min'     } }); require(['vis'], function(vis) {  window.vis = vis; }); ",
      "text/plain": [
       "<IPython.core.display.Javascript object>"
      ]
     },
     "metadata": {},
     "output_type": "display_data"
    },
    {
     "data": {
      "text/html": [
       "<div id=\"e0755fea-2a2d-4e27-99f9-63df553769aa\" style=\"height: 400px;\"></div>\n",
       "\n",
       "<script type=\"text/javascript\">\n",
       "\n",
       "    var nodes = [{\"id\": 2, \"label\": \"Farrokh\", \"group\": \"Advisor\", \"title\": \"Node('Advisor', location='JPL', name='Farrokh', role='IPA')\"}, {\"id\": 10, \"label\": \"Farhana\", \"group\": \"Intern\", \"title\": \"Node('Intern', location='University of Maryland', name='Farhana', role='Student')\"}, {\"id\": 14, \"label\": \"Dark Math\", \"group\": \"Publication\", \"title\": \"Node('Publication', name='Dark Math', publisher='MIT')\"}, {\"id\": 1, \"label\": \"Sean\", \"group\": \"Advisor\", \"title\": \"Node('Advisor', location='BYU', name='Sean', role='IPA')\"}, {\"id\": 4, \"label\": \"Ed\", \"group\": \"Advisor\", \"title\": \"Node('Advisor', location='CBP', name='Ed', role='Detailee')\"}, {\"id\": 0, \"label\": \"Steve\", \"group\": \"Advisor\", \"title\": \"Node('Advisor', location='DHS', name='Steve', role='Detailee')\"}, {\"id\": 3, \"label\": \"Ryan\", \"group\": \"Advisor\", \"title\": \"Node('Advisor', location='HSI', name='Ryan', role='Detailee')\"}, {\"id\": 15, \"label\": \"Patterns in Pi\", \"group\": \"Publication\", \"title\": \"Node('Publication', name='Patterns in Pi', publisher='SIAM')\"}];\n",
       "    var edges = [{\"from\": 2, \"to\": 10, \"label\": \"INTRIGUED_BY\"}, {\"from\": 1, \"to\": 10, \"label\": \"WONDER-STRUCK_BY\"}, {\"from\": 4, \"to\": 10, \"label\": \"FASCINATED_BY\"}, {\"from\": 0, \"to\": 10, \"label\": \"AMAZED_BY\"}, {\"from\": 0, \"to\": 2, \"label\": \"WORKS_FOR\"}, {\"from\": 3, \"to\": 10, \"label\": \"IMPRESSED_BY\"}, {\"from\": 3, \"to\": 1, \"label\": \"WORKS_FOR\"}, {\"from\": 10, \"to\": 15, \"label\": \"AUTHORED\"}, {\"from\": 10, \"to\": 14, \"label\": \"AUTHORED\"}];\n",
       "\n",
       "    var container = document.getElementById(\"e0755fea-2a2d-4e27-99f9-63df553769aa\");\n",
       "\n",
       "    var data = {\n",
       "        nodes: nodes,\n",
       "        edges: edges\n",
       "    };\n",
       "\n",
       "    var options = {\n",
       "    nodes: {\n",
       "        shape: 'dot',\n",
       "        size: 25,\n",
       "        font: {\n",
       "            size: 14\n",
       "        }\n",
       "    },\n",
       "    edges: {\n",
       "        font: {\n",
       "            size: 14,\n",
       "            align: 'middle'\n",
       "        },\n",
       "        color: 'gray',\n",
       "        arrows: {\n",
       "            to: {\n",
       "                enabled: true,\n",
       "                scaleFactor: 0.5\n",
       "            }\n",
       "        },\n",
       "        smooth: {\n",
       "            enabled: false\n",
       "        }\n",
       "    },\n",
       "    physics: {\n",
       "        enabled: true\n",
       "        }\n",
       "    };\n",
       "\n",
       "    var network = new vis.Network(container, data, options);\n",
       "\n",
       "</script>\n"
      ],
      "text/plain": [
       "<IPython.core.display.HTML object>"
      ]
     },
     "execution_count": 20,
     "metadata": {},
     "output_type": "execute_result"
    }
   ],
   "source": [
    "import neo4jupyter\n",
    "neo4jupyter.init_notebook_mode()\n",
    "\n",
    "options = {\"Advisor\": \"name\", \"Intern\": \"name\", \"Publication\": \"name\"}\n",
    "\n",
    "# Show graph in Jupyter. You can also view the graph in \n",
    "# the Neo4j web console.\n",
    "neo4jupyter.draw(graph, options)"
   ]
  },
  {
   "cell_type": "code",
   "execution_count": 21,
   "metadata": {},
   "outputs": [
    {
     "name": "stdout",
     "output_type": "stream",
     "text": [
      "'Farhana'\t'Dark Math'\n",
      "'Farhana'\t'Patterns in Pi'\n"
     ]
    }
   ],
   "source": [
    "query1 = \"\"\"\n",
    "    MATCH (person:Intern)-[:AUTHORED]->(publication:Publication)\n",
    "    RETURN person.name AS name, publication.name AS pub\n",
    "\"\"\"\n",
    "\n",
    "data = graph.run(query1)\n",
    "\n",
    "for d in data:\n",
    "    print(d)"
   ]
  },
  {
   "cell_type": "code",
   "execution_count": 22,
   "metadata": {},
   "outputs": [
    {
     "name": "stdout",
     "output_type": "stream",
     "text": [
      "'Steve'\t'Farhana'\n"
     ]
    }
   ],
   "source": [
    "query2 = \"\"\"\n",
    "    MATCH (person1:Advisor)-[:AMAZED_BY]->(person2:Intern)\n",
    "    RETURN person1.name AS name1, person2.name AS name2\n",
    "\"\"\"\n",
    "\n",
    "data = graph.run(query2)\n",
    "\n",
    "for d in data:\n",
    "    print(d)"
   ]
  }
 ],
 "metadata": {
  "kernelspec": {
   "display_name": "Python 3.10.6 ('.venv': venv)",
   "language": "python",
   "name": "python3"
  },
  "language_info": {
   "codemirror_mode": {
    "name": "ipython",
    "version": 3
   },
   "file_extension": ".py",
   "mimetype": "text/x-python",
   "name": "python",
   "nbconvert_exporter": "python",
   "pygments_lexer": "ipython3",
   "version": "3.10.6"
  },
  "vscode": {
   "interpreter": {
    "hash": "b9217cfbd83c61c810f65951f71541107733f7b399dbf4d5390730f82cee703e"
   }
  }
 },
 "nbformat": 4,
 "nbformat_minor": 2
}
