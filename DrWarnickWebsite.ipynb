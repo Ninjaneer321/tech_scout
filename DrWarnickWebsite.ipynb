{
 "cells": [
  {
   "cell_type": "code",
   "execution_count": 66,
   "id": "619f24f1",
   "metadata": {
    "scrolled": false
   },
   "outputs": [
    {
     "name": "stderr",
     "output_type": "stream",
     "text": [
      "/Users/far/Desktop/Personal Project/tech_scout2/tech_scout/env/lib/python3.10/site-packages/urllib3/connectionpool.py:1045: InsecureRequestWarning: Unverified HTTPS request is being made to host 'cs.byu.edu'. Adding certificate verification is strongly advised. See: https://urllib3.readthedocs.io/en/1.26.x/advanced-usage.html#ssl-warnings\n",
      "  warnings.warn(\n"
     ]
    }
   ],
   "source": [
    "import pandas as pd\n",
    "import requests\n",
    "from bs4 import BeautifulSoup\n",
    " \n",
    "# Start with a URL.\n",
    "res = requests.get('https://cs.byu.edu/department/directory/faculty-directory/sean-warnick/', verify=False)\n",
    "\n"
   ]
  },
  {
   "cell_type": "markdown",
   "id": "646e84e9",
   "metadata": {},
   "source": [
    "print(\"The status code is \", res.status_code)\n",
    "print(\"\\n\")\n",
    "soup_data = BeautifulSoup(res.text, 'html.parser')\n",
    "print(soup_data.title)\n",
    "print(\"\\n\")\n",
    "print(soup_data.contents)"
   ]
  },
  {
   "cell_type": "markdown",
   "id": "c6c176a5",
   "metadata": {},
   "source": [
    "tags = soup_data.find_all()\n",
    "for tag in tags:\n",
    "    if 'id' in tag.attrs:\n",
    "        print(tag.name,tag['id'],sep='->')\n",
    "       \n",
    "div_bs4 = soup_data.find_all('section', id = \"students\")\n",
    "print(div_bs4)\n",
    "person = {}\n",
    " \n",
    "for div in soup_data.findAll('div', {'class': 'card-title'}):\n",
    "    print(div)\n",
    "    #person[div.find('class').attrs['card-title'][0]] = div.text.strip()\n",
    " \n",
    "print(person)\n"
   ]
  },
  {
   "cell_type": "markdown",
   "id": "696ffbbb",
   "metadata": {},
   "source": [
    "tags = soup_data.find_all()\n",
    "for tag in tags:\n",
    "    if 'id' in tag.attrs:\n",
    "        print(tag.name,tag['id'],sep='->')\n",
    "       \n",
    "div_bs4 = soup_data.find_all('section', id = \"students\")\n",
    "print(div_bs4)\n",
    "person = {}\n",
    " \n",
    "for div in soup_data.findAll('div', {'class': 'card-title'}):\n",
    "    print(div)\n",
    "    #person[div.find('class').attrs['card-title'][0]] = div.text.strip()\n",
    " \n",
    "print(person)\n",
    " \n",
    "print(soup_data.find_all(\"div\", {'class':'card-title'}))"
   ]
  },
  {
   "cell_type": "code",
   "execution_count": 67,
   "id": "f9296429",
   "metadata": {},
   "outputs": [],
   "source": [
    "URL = 'https://cs.byu.edu/department/directory/faculty-directory/sean-warnick/'\n",
    "page = requests.get(URL)"
   ]
  },
  {
   "cell_type": "code",
   "execution_count": 68,
   "id": "b5368784",
   "metadata": {},
   "outputs": [
    {
     "data": {
      "text/plain": [
       "200"
      ]
     },
     "execution_count": 68,
     "metadata": {},
     "output_type": "execute_result"
    }
   ],
   "source": [
    "page.status_code"
   ]
  },
  {
   "cell_type": "code",
   "execution_count": 69,
   "id": "cecfaffc",
   "metadata": {},
   "outputs": [
    {
     "data": {
      "text/plain": [
       "{'Date': 'Thu, 15 Dec 2022 08:00:52 GMT', 'Server': 'Apache/2.4.7 (Ubuntu)', 'X-Frame-Options': 'SAMEORIGIN', 'Vary': 'Cookie,Accept-Encoding', 'Content-Encoding': 'gzip', 'Keep-Alive': 'timeout=5, max=200', 'Connection': 'Keep-Alive', 'Transfer-Encoding': 'chunked', 'Content-Type': 'text/html; charset=utf-8'}"
      ]
     },
     "execution_count": 69,
     "metadata": {},
     "output_type": "execute_result"
    }
   ],
   "source": [
    "page.headers"
   ]
  },
  {
   "cell_type": "code",
   "execution_count": 70,
   "id": "4aaefb05",
   "metadata": {},
   "outputs": [
    {
     "data": {
      "text/plain": [
       "' \\n<html lang=\"en\">\\n  <head>\\n    <title>BYU Computer Science Department</title>\\n    <meta charset=\"utf-8\" />\\n    <meta http-equiv=\"x-ua-compatible\" content=\"ie=edge\" />\\n    <meta name=\"viewport\" content=\"width=device-width, initial-scale=1.0\" />\\n    <link rel=\"shortcut icon\" href=\"/static/core/img/favicon.ico\" />\\n\\n    <!-- <script async src=\"https://cdn.byu.edu/byu-theme-components/1.x.x/byu-theme-components.min.js\"></script> -->\\n    <!-- <link rel=\"stylesheet\" href=\"https://cdn.byu.edu/byu-theme-components/1.x.x/byu-theme-components.min.css\" /> -->\\n    <script\\n      async\\n      src=\"https://cdn.byu.edu/byu-theme-components/2.x.x/byu-theme-components.min.js\"\\n    ></script>\\n    <link\\n      rel=\"stylesheet\"\\n      href=\"https://cdn.byu.edu/byu-theme-components/2.x.x/byu-theme-components.min.css\"\\n      media=\"all\"\\n    />\\n    <link\\n      rel=\"stylesheet\"\\n      href=\"/static/core/css/main.css\"\\n      type=\"text/css\"\\n    />\\n  </head>\\n\\n  <body class=\"body--flex\">\\n    <header>\\n  \\n\\n\\n\\n<div class=\"navigation\">\\n  \\n\\n<div id=\"wide-nav\">\\n  \\n  <div id=\"wide-header\">\\n    <div id=\"wide-header-container\">\\n      \\n\\n<div class=\"site-title\">\\n    <a href=\"https://www.byu.edu/\">\\n        <img class=\"byu-logo-image\" alt=\"BYU\" src=\"/static/core/img/byu-logo.svg\">\\n    </a>\\n    <a class=\"cs-logo\" href=\"/\">\\n        Computer Science\\n    </a>\\n</div>\\n      \\n\\n<div class=\"actions\">\\n    \\n    <a class=\"header-login\" href=\"/accounts/login/\">Log In</a>\\n    \\n    \\n<a slot=\"actions\" class=\"search-link\" href=\"https://www.byu.edu/search-all\">\\n    <img class=\"search-icon\" src=\"/static/core/img/search.svg\" alt=\"Search\">\\n</a>\\n<!-- <byu-search slot=\"search\" action=\"navigate\" action-target=\"https://byu.edu/search/byu?keys=${search}\" method=\"get\"\\n    placeholder=\"Search\"></byu-search> -->\\n</div>\\n    </div>\\n  </div>\\n  \\n  <div class=\"nav-page-container\">\\n    <div class=\"nav-page-content\">\\n    \\n      \\n        <div class=\"nav-dropdown\">\\n          \\n          <button onfocus=\"onWideNavFocus(this)\" class=\"nav-dropdown-tab\">\\n            <text>Student Education</text>\\n          </button>\\n          \\n          <div class=\"nav-dropdown-content\" style=\"width: 1067px\">\\n            <!-- Shows up as an error but is functional! We couldn\\'t find any other way to set inline styles with context processor -->\\n            \\n              <div class=\"nav-dropdown-column\">\\n                \\n                  <text class=\"nav-dropdown-column-title\">Undergraduate</text>\\n                  \\n                  \\n                    \\n                      \\n                      <a href=/education/undergraduate/about-cs-bachelors/>About Computer Science BS</a>\\n                      \\n                    \\n                  \\n                    \\n                      \\n                      <a href=/courses/two-year-plan/>Future Course Offerings</a>\\n                      \\n                    \\n                  \\n                    \\n                      \\n                      <a href=/education/undergraduate/about-cs-minor/>Minor in Computer Science</a>\\n                      \\n                    \\n                  \\n                    \\n                      \\n                      <a href=/education/undergraduate/resources/frequently-asked-questions/>Undergraduate Resources &amp; FAQs</a>\\n                      \\n                    \\n                  \\n                  \\n                  \\n                    <text class=\"nav-dropdown-subcolumn\">Emphases for CS Majors</text>\\n                    \\n                      \\n                        \\n                        <a href=/education/undergraduate/emphases/animation/>Animation</a>\\n                        \\n                      \\n                    \\n                      \\n                        \\n                        <a href=/education/undergraduate/emphases/bioinformatics/>Bioinformatics</a>\\n                        \\n                      \\n                    \\n                      \\n                        \\n                        <a href=/education/undergraduate/emphases/data-science/>Data Science</a>\\n                        \\n                      \\n                    \\n                      \\n                        \\n                        <a href=/education/undergraduate/emphases/software-engineering/>Software Engineering</a>\\n                        \\n                      \\n                    \\n                  \\n                \\n              </div>\\n            \\n              <div class=\"nav-dropdown-column\">\\n                \\n                  <text class=\"nav-dropdown-column-title\">Graduate</text>\\n                  \\n                  \\n                    \\n                      \\n                      <a href=/education/graduate/admissions-information/>Apply for Graduate Program</a>\\n                      \\n                    \\n                  \\n                    \\n                      \\n                      <a href=/courses/two-year-plan/>Future Course Offerings</a>\\n                      \\n                    \\n                  \\n                  \\n                  \\n                    <text class=\"nav-dropdown-subcolumn\">Master&#39;s Program (MS)</text>\\n                    \\n                      \\n                        \\n                        <a href=/education/graduate/graduate-handbook-ms-program/>About Computer Science MS</a>\\n                        \\n                      \\n                    \\n                      \\n                        \\n                        <a href=/education/graduate/common-graduate-forms/>Master&#39;s Program Forms</a>\\n                        \\n                      \\n                    \\n                  \\n                    <text class=\"nav-dropdown-subcolumn\">Doctorate Program (PhD)</text>\\n                    \\n                      \\n                        \\n                        <a href=/education/graduate/graduate-handbook-phd-program/>About Computer Science PhD</a>\\n                        \\n                      \\n                    \\n                      \\n                        \\n                        <a href=/education/graduate/common-graduate-forms/>Doctorate Program Forms</a>\\n                        \\n                      \\n                    \\n                      \\n                        \\n                        <a href=/education/graduate/dissertation-resources/>Dissertation Resources</a>\\n                        \\n                      \\n                    \\n                  \\n                \\n              </div>\\n            \\n              <div class=\"nav-dropdown-column\">\\n                \\n                  <text class=\"nav-dropdown-column-title\">Advisement</text>\\n                  \\n                  \\n                    \\n                      \\n                      <a href=/department/contact-us>Contact an Academic Advisor</a>\\n                      \\n                    \\n                  \\n                    \\n                      \\n                      <a href=https://csdiversity.byu.edu/our-schedules>Meet with a Peer Mentor</a>\\n                      \\n                    \\n                  \\n                    \\n                      \\n                      <a href=https://enrollment2.byu.edu/academic-calendar>BYU Academic Calendar</a>\\n                      \\n                    \\n                  \\n                    \\n                      \\n                      <a href=https://mymap.byu.edu/>Planning Courses (MyMap)</a>\\n                      \\n                    \\n                  \\n                  \\n                  \\n                \\n                  <text class=\"nav-dropdown-column-title\">Financial Assistance</text>\\n                  \\n                  \\n                    \\n                      \\n                      <a href=/education/undergraduate/scholarship-information/>Scholarships for Undergraduates</a>\\n                      \\n                    \\n                  \\n                    \\n                      \\n                      <a href=https://gradstudies.byu.edu/admissions/costs-financial-aid>Graduate Financial Aid</a>\\n                      \\n                    \\n                  \\n                  \\n                  \\n                \\n              </div>\\n            \\n              <div class=\"nav-dropdown-column\">\\n                \\n                  <text class=\"nav-dropdown-column-title\">Resources</text>\\n                  \\n                  \\n                    \\n                      \\n                      <a href=https://inclusion.cs.byu.edu/>Inclusion, Diversity, &amp; Equity</a>\\n                      \\n                    \\n                  \\n                    \\n                      \\n                      <a href=https://science.byu.edu/international-students>International Students</a>\\n                      \\n                    \\n                  \\n                    \\n                      \\n                      <a href=https://uac.byu.edu/>University Accessibility Center</a>\\n                      \\n                    \\n                  \\n                    \\n                      \\n                      <a href=https://yserve.byu.edu/tutoring>Meet with a Tutor</a>\\n                      \\n                    \\n                  \\n                    \\n                  \\n                    \\n                      \\n                      <a href=/department/contact-us class=\"special\">Need Help?</a>\\n                      \\n                    \\n                  \\n                  \\n                  \\n                \\n              </div>\\n            \\n          </div>\\n          \\n        </div>\\n      \\n        <div class=\"nav-dropdown\">\\n          \\n          <button onfocus=\"onWideNavFocus(this)\" class=\"nav-dropdown-tab\">\\n            <text>Student Employment</text>\\n          </button>\\n          \\n          <div class=\"nav-dropdown-content\" style=\"width: 860px\">\\n            <!-- Shows up as an error but is functional! We couldn\\'t find any other way to set inline styles with context processor -->\\n            \\n              <div class=\"nav-dropdown-column\">\\n                \\n                  <text class=\"nav-dropdown-column-title\">Opportunities</text>\\n                  \\n                  \\n                    \\n                      \\n                      <a href=/employment-info/about-on-campus-jobs/>About On-Campus Jobs</a>\\n                      \\n                    \\n                  \\n                    \\n                      \\n                      <a href=/employment/jobs/>On-Campus Job Openings</a>\\n                      \\n                    \\n                  \\n                    \\n                      \\n                      <a href=/employment/jobs/>Research Lab Openings</a>\\n                      \\n                    \\n                  \\n                    \\n                      \\n                      <a href=/employment-info/internships/>Internships</a>\\n                      \\n                    \\n                  \\n                  \\n                  \\n                \\n              </div>\\n            \\n              <div class=\"nav-dropdown-column\">\\n                \\n                  <text class=\"nav-dropdown-column-title\">Career Resources</text>\\n                  \\n                  \\n                    \\n                      \\n                      <a href=https://science.byu.edu/career>Contact a Career Advisor</a>\\n                      \\n                    \\n                  \\n                    \\n                      \\n                      <a href=/employment-info/about-on-campus-jobs/>About On-Campus Jobs</a>\\n                      \\n                    \\n                  \\n                    \\n                      \\n                      <a href=https://careers.byu.edu/students/job-search-resources/handshake>Join BYU Handshake</a>\\n                      \\n                    \\n                  \\n                    \\n                      \\n                      <a href=https://careers.byu.edu/students/hiring-resources>Resume &amp; Cover Letter Help</a>\\n                      \\n                    \\n                  \\n                    \\n                      \\n                      <a href=https://science.byu.edu/news-archive/how-to-prepare-for-the-stem-fair-2016>About the STEM Fair</a>\\n                      \\n                    \\n                  \\n                  \\n                  \\n                \\n              </div>\\n            \\n          </div>\\n          \\n        </div>\\n      \\n        <div class=\"nav-dropdown\">\\n          \\n          <button onfocus=\"onWideNavFocus(this)\" class=\"nav-dropdown-tab\">\\n            <text>Community</text>\\n          </button>\\n          \\n          <div class=\"nav-dropdown-content\" style=\"width: 633px\">\\n            <!-- Shows up as an error but is functional! We couldn\\'t find any other way to set inline styles with context processor -->\\n            \\n              <div class=\"nav-dropdown-column\">\\n                \\n                  <text class=\"nav-dropdown-column-title\">Students</text>\\n                  \\n                  \\n                    \\n                      \\n                      <a href=/community/students/clubs/>Clubs</a>\\n                      \\n                    \\n                  \\n                    \\n                  \\n                    \\n                      \\n                      <a href=https://inclusion.cs.byu.edu/>Inclusion, Diversity, &amp; Equity</a>\\n                      \\n                    \\n                  \\n                    \\n                      \\n                      <a href=https://science.byu.edu/international-students>International Students</a>\\n                      \\n                    \\n                  \\n                    \\n                      \\n                      <a href=/community/students/demographics/>Student Demographics</a>\\n                      \\n                    \\n                  \\n                    \\n                      \\n                      <a href=https://science.byu.edu/deans-list-archive>Student Awards</a>\\n                      \\n                    \\n                  \\n                  \\n                  \\n                \\n              </div>\\n            \\n              <div class=\"nav-dropdown-column\">\\n                \\n                  <text class=\"nav-dropdown-column-title\">Alumni</text>\\n                  \\n                  \\n                    \\n                      \\n                      <a href=/community/alumni/get-involved/>How to Get Involved</a>\\n                      \\n                    \\n                  \\n                    \\n                      \\n                      <a href=/community/alumni/awards/>Alumni Awards</a>\\n                      \\n                    \\n                  \\n                  \\n                  \\n                \\n                  <text class=\"nav-dropdown-column-title\">Companies</text>\\n                  \\n                  \\n                    \\n                      \\n                      <a href=/community/companies/partner-with-us/>Partner With Us</a>\\n                      \\n                    \\n                  \\n                    \\n                      \\n                      <a href=/community/companies/recruit-our-students/>Recruit Our Students</a>\\n                      \\n                    \\n                  \\n                    \\n                      \\n                      <a href=/community/companies/sponsor-capstone/>Sponsor a Capstone</a>\\n                      \\n                    \\n                  \\n                    \\n                      \\n                      <a href=https://careers.byu.edu/students/job-search-resources/handshake>Join BYU Handshake</a>\\n                      \\n                    \\n                  \\n                    \\n                      \\n                      <a href=https://ces.peoplegrove.com/hub/byu/>Join BYU Connect</a>\\n                      \\n                    \\n                  \\n                    \\n                      \\n                      <a href=/department/contact-us class=\"special\">Contact Us</a>\\n                      \\n                    \\n                  \\n                  \\n                  \\n                \\n              </div>\\n            \\n          </div>\\n          \\n        </div>\\n      \\n        <div class=\"nav-dropdown\">\\n          \\n          <button onfocus=\"onWideNavFocus(this)\" class=\"nav-dropdown-tab\">\\n            <text>Department</text>\\n          </button>\\n          \\n          <div class=\"nav-dropdown-content\" style=\"width: 486px\">\\n            <!-- Shows up as an error but is functional! We couldn\\'t find any other way to set inline styles with context processor -->\\n            \\n              <div class=\"nav-dropdown-column\">\\n                \\n                  <text class=\"nav-dropdown-column-title\">About</text>\\n                  \\n                  \\n                    \\n                      \\n                      <a href=/department/about/>About Us</a>\\n                      \\n                    \\n                  \\n                    \\n                      \\n                      <a href=/department/directory/>Faculty/Staff Directory</a>\\n                      \\n                    \\n                  \\n                    \\n                      \\n                      <a href=/department/faculty-and-staff-positions/>Position Openings for Faculty/Staff</a>\\n                      \\n                    \\n                  \\n                    \\n                      \\n                      <a href=/department/contact-us class=\"special\">Contact Us</a>\\n                      \\n                    \\n                  \\n                  \\n                  \\n                \\n                  <text class=\"nav-dropdown-column-title\">Research</text>\\n                  \\n                  \\n                    \\n                      \\n                      <a href=/department/research/about/>About Our Research</a>\\n                      \\n                    \\n                  \\n                    \\n                      \\n                      <a href=/projects/>Research Labs</a>\\n                      \\n                    \\n                  \\n                    \\n                      \\n                      <a href=/employment/jobs/>Student Research Lab Openings</a>\\n                      \\n                    \\n                  \\n                  \\n                  \\n                \\n              </div>\\n            \\n          </div>\\n          \\n        </div>\\n      \\n        <div class=\"nav-dropdown\">\\n          \\n          <button onfocus=\"onWideNavFocus(this)\" class=\"nav-dropdown-tab\">\\n            <text>Events &amp; News</text>\\n          </button>\\n          \\n          <div class=\"nav-dropdown-content\" style=\"width: 335px\">\\n            <!-- Shows up as an error but is functional! We couldn\\'t find any other way to set inline styles with context processor -->\\n            \\n              <div class=\"nav-dropdown-column\">\\n                \\n                  <text class=\"nav-dropdown-column-title\">Events</text>\\n                  \\n                  \\n                    \\n                      \\n                      <a href=/events/>Upcoming Events</a>\\n                      \\n                    \\n                  \\n                    \\n                      \\n                      <a href=/events/seminar-series/>Seminar Series</a>\\n                      \\n                    \\n                  \\n                    \\n                      \\n                      <a href=https://science.byu.edu/news-archive/how-to-prepare-for-the-stem-fair-2016>About the STEM Fair</a>\\n                      \\n                    \\n                  \\n                  \\n                  \\n                \\n                  <text class=\"nav-dropdown-column-title\">News</text>\\n                  \\n                  \\n                    \\n                      \\n                      <a href=/news/>Recent News</a>\\n                      \\n                    \\n                  \\n                    \\n                      \\n                      <a href=https://science.byu.edu/deans-list-archive>Student Awards</a>\\n                      \\n                    \\n                  \\n                  \\n                  \\n                \\n              </div>\\n            \\n          </div>\\n          \\n        </div>\\n      \\n    \\n      \\n      <div id=\"donate-button-div\">\\n        <a id=\"donate-button\"\\n          href=\"https://donate.churchofjesuschrist.org/donations/byu/physical-mathematical-sciences/computer-science\">Donate</a>\\n      </div>\\n      \\n    </div>\\n  </div>\\n</div>\\n  \\n\\n\\n<div class=\"nav-page-content\" id=\"mobile-nav\">\\n    <div id=\"mobile-header\">\\n        \\n\\n<div class=\"site-title\">\\n    <a href=\"https://www.byu.edu/\">\\n        <img class=\"byu-logo-image\" alt=\"BYU\" src=\"/static/core/img/byu-logo.svg\">\\n    </a>\\n    <a class=\"cs-logo\" href=\"/\">\\n        Computer Science\\n    </a>\\n</div>\\n        <button class=\"mobile-nav-hamburger-button\" onclick=\"openMobileMenu()\">\\n            <img class=\"white-filter mobile-nav-hamburger-image\" src=\"/static/core/img/icon-hamburger-menu.svg\"/>\\n        </button>\\n    </div>\\n    \\n    <div id=\"mobile-nav-slideout\">\\n        <div id=\"mobile-menu-overlay\" onclick=\"closeMobileMenu()\"></div>\\n        <div id=\"mobile-menu-main-slideout\">\\n            \\n            <div id=\"mobile-menu-header\">\\n                <button onclick=\"closeMobileMenu()\">\\n                    <img class=\"white-filter mobile-close-menu-image\" src=\"/static/core/img/icon-cross.svg\"/>\\n                </button>\\n            </div>\\n            \\n            \\n            <div id=\"mobile-menu-content\">\\n                \\n                \\n\\n<div class=\"actions\">\\n    \\n    <a class=\"header-login\" href=\"/accounts/login/\">Log In</a>\\n    \\n    \\n<a slot=\"actions\" class=\"search-link\" href=\"https://www.byu.edu/search-all\">\\n    <img class=\"search-icon\" src=\"/static/core/img/search.svg\" alt=\"Search\">\\n</a>\\n<!-- <byu-search slot=\"search\" action=\"navigate\" action-target=\"https://byu.edu/search/byu?keys=${search}\" method=\"get\"\\n    placeholder=\"Search\"></byu-search> -->\\n</div>\\n                \\n                \\n                <hr/>\\n                <div class=\"nav-mobile-main-section\">\\n                    <text>Student Education</text>\\n                    \\n                        \\n                        <button class=\"nav-mobile-main-button\" onclick=\"openSubsec(this)\">\\n                            <text>Undergraduate</text>\\n                            <img class=\"gray-filter\" src=\"/static/core/img/icon-angle-right.svg\"/>\\n                        </button>\\n                        \\n                        <div class=\"mobile-menu-subsection-slideout\">\\n                            \\n                            <button class=\"nav-mobile-subsection-back-button\" onclick=\"closeSubsec(this)\">\\n                                <img class=\"gray-filter\" src=\"/static/core/img/icon-back-arrow.svg\"/>\\n                                <text>Back</text>\\n                            </button>\\n                            \\n                            <hr/>\\n                            \\n                            <div class=\"mobile-menu-subsection-menu\">\\n                                \\n                                <text>Undergraduate</text>\\n                                \\n                                \\n                                \\n                                <div class=\"nav-mobile-subsection-link\">\\n                                    \\n                                    <a href=/education/undergraduate/about-cs-bachelors/ onclick=\"closeMobileMenu()\">About Computer Science BS</a>\\n                                    \\n                                </div>\\n                                \\n                                \\n                                \\n                                <div class=\"nav-mobile-subsection-link\">\\n                                    \\n                                    <a href=/courses/two-year-plan/ onclick=\"closeMobileMenu()\">Future Course Offerings</a>\\n                                    \\n                                </div>\\n                                \\n                                \\n                                \\n                                <div class=\"nav-mobile-subsection-link\">\\n                                    \\n                                    <a href=/education/undergraduate/about-cs-minor/ onclick=\"closeMobileMenu()\">Minor in Computer Science</a>\\n                                    \\n                                </div>\\n                                \\n                                \\n                                \\n                                <div class=\"nav-mobile-subsection-link\">\\n                                    \\n                                    <a href=/education/undergraduate/resources/frequently-asked-questions/ onclick=\"closeMobileMenu()\">Undergraduate Resources &amp; FAQs</a>\\n                                    \\n                                </div>\\n                                \\n                                \\n                                \\n                                \\n                                <text class=\"mobile-nav-subsec-name\">Emphases for CS Majors</text>\\n                                    \\n                                    \\n                                    <div class=\"nav-mobile-subsection-link\">\\n                                        \\n                                        <a href=/education/undergraduate/emphases/animation/ onclick=\"closeMobileMenu()\">Animation</a>\\n                                        \\n                                    </div>\\n                                    \\n                                    \\n                                    \\n                                    <div class=\"nav-mobile-subsection-link\">\\n                                        \\n                                        <a href=/education/undergraduate/emphases/bioinformatics/ onclick=\"closeMobileMenu()\">Bioinformatics</a>\\n                                        \\n                                    </div>\\n                                    \\n                                    \\n                                    \\n                                    <div class=\"nav-mobile-subsection-link\">\\n                                        \\n                                        <a href=/education/undergraduate/emphases/data-science/ onclick=\"closeMobileMenu()\">Data Science</a>\\n                                        \\n                                    </div>\\n                                    \\n                                    \\n                                    \\n                                    <div class=\"nav-mobile-subsection-link\">\\n                                        \\n                                        <a href=/education/undergraduate/emphases/software-engineering/ onclick=\"closeMobileMenu()\">Software Engineering</a>\\n                                        \\n                                    </div>\\n                                    \\n                                    \\n                                \\n                                \\n                            </div>\\n                        </div>\\n                        \\n                    \\n                        \\n                        <button class=\"nav-mobile-main-button\" onclick=\"openSubsec(this)\">\\n                            <text>Graduate</text>\\n                            <img class=\"gray-filter\" src=\"/static/core/img/icon-angle-right.svg\"/>\\n                        </button>\\n                        \\n                        <div class=\"mobile-menu-subsection-slideout\">\\n                            \\n                            <button class=\"nav-mobile-subsection-back-button\" onclick=\"closeSubsec(this)\">\\n                                <img class=\"gray-filter\" src=\"/static/core/img/icon-back-arrow.svg\"/>\\n                                <text>Back</text>\\n                            </button>\\n                            \\n                            <hr/>\\n                            \\n                            <div class=\"mobile-menu-subsection-menu\">\\n                                \\n                                <text>Graduate</text>\\n                                \\n                                \\n                                \\n                                <div class=\"nav-mobile-subsection-link\">\\n                                    \\n                                    <a href=/education/graduate/admissions-information/ onclick=\"closeMobileMenu()\">Apply for Graduate Program</a>\\n                                    \\n                                </div>\\n                                \\n                                \\n                                \\n                                <div class=\"nav-mobile-subsection-link\">\\n                                    \\n                                    <a href=/courses/two-year-plan/ onclick=\"closeMobileMenu()\">Future Course Offerings</a>\\n                                    \\n                                </div>\\n                                \\n                                \\n                                \\n                                \\n                                <text class=\"mobile-nav-subsec-name\">Master&#39;s Program (MS)</text>\\n                                    \\n                                    \\n                                    <div class=\"nav-mobile-subsection-link\">\\n                                        \\n                                        <a href=/education/graduate/graduate-handbook-ms-program/ onclick=\"closeMobileMenu()\">About Computer Science MS</a>\\n                                        \\n                                    </div>\\n                                    \\n                                    \\n                                    \\n                                    <div class=\"nav-mobile-subsection-link\">\\n                                        \\n                                        <a href=/education/graduate/common-graduate-forms/ onclick=\"closeMobileMenu()\">Master&#39;s Program Forms</a>\\n                                        \\n                                    </div>\\n                                    \\n                                    \\n                                \\n                                \\n                                <text class=\"mobile-nav-subsec-name\">Doctorate Program (PhD)</text>\\n                                    \\n                                    \\n                                    <div class=\"nav-mobile-subsection-link\">\\n                                        \\n                                        <a href=/education/graduate/graduate-handbook-phd-program/ onclick=\"closeMobileMenu()\">About Computer Science PhD</a>\\n                                        \\n                                    </div>\\n                                    \\n                                    \\n                                    \\n                                    <div class=\"nav-mobile-subsection-link\">\\n                                        \\n                                        <a href=/education/graduate/common-graduate-forms/ onclick=\"closeMobileMenu()\">Doctorate Program Forms</a>\\n                                        \\n                                    </div>\\n                                    \\n                                    \\n                                    \\n                                    <div class=\"nav-mobile-subsection-link\">\\n                                        \\n                                        <a href=/education/graduate/dissertation-resources/ onclick=\"closeMobileMenu()\">Dissertation Resources</a>\\n                                        \\n                                    </div>\\n                                    \\n                                    \\n                                \\n                                \\n                            </div>\\n                        </div>\\n                        \\n                    \\n                        \\n                        <button class=\"nav-mobile-main-button\" onclick=\"openSubsec(this)\">\\n                            <text>Advisement</text>\\n                            <img class=\"gray-filter\" src=\"/static/core/img/icon-angle-right.svg\"/>\\n                        </button>\\n                        \\n                        <div class=\"mobile-menu-subsection-slideout\">\\n                            \\n                            <button class=\"nav-mobile-subsection-back-button\" onclick=\"closeSubsec(this)\">\\n                                <img class=\"gray-filter\" src=\"/static/core/img/icon-back-arrow.svg\"/>\\n                                <text>Back</text>\\n                            </button>\\n                            \\n                            <hr/>\\n                            \\n                            <div class=\"mobile-menu-subsection-menu\">\\n                                \\n                                <text>Advisement</text>\\n                                \\n                                \\n                                \\n                                <div class=\"nav-mobile-subsection-link\">\\n                                    \\n                                    <a href=/department/contact-us onclick=\"closeMobileMenu()\">Contact an Academic Advisor</a>\\n                                    \\n                                </div>\\n                                \\n                                \\n                                \\n                                <div class=\"nav-mobile-subsection-link\">\\n                                    \\n                                    <a href=https://csdiversity.byu.edu/our-schedules onclick=\"closeMobileMenu()\">Meet with a Peer Mentor</a>\\n                                    \\n                                </div>\\n                                \\n                                \\n                                \\n                                <div class=\"nav-mobile-subsection-link\">\\n                                    \\n                                    <a href=https://enrollment2.byu.edu/academic-calendar onclick=\"closeMobileMenu()\">BYU Academic Calendar</a>\\n                                    \\n                                </div>\\n                                \\n                                \\n                                \\n                                <div class=\"nav-mobile-subsection-link\">\\n                                    \\n                                    <a href=https://mymap.byu.edu/ onclick=\"closeMobileMenu()\">Planning Courses (MyMap)</a>\\n                                    \\n                                </div>\\n                                \\n                                \\n                                \\n                                \\n                            </div>\\n                        </div>\\n                        \\n                        <button class=\"nav-mobile-main-button\" onclick=\"openSubsec(this)\">\\n                            <text>Financial Assistance</text>\\n                            <img class=\"gray-filter\" src=\"/static/core/img/icon-angle-right.svg\"/>\\n                        </button>\\n                        \\n                        <div class=\"mobile-menu-subsection-slideout\">\\n                            \\n                            <button class=\"nav-mobile-subsection-back-button\" onclick=\"closeSubsec(this)\">\\n                                <img class=\"gray-filter\" src=\"/static/core/img/icon-back-arrow.svg\"/>\\n                                <text>Back</text>\\n                            </button>\\n                            \\n                            <hr/>\\n                            \\n                            <div class=\"mobile-menu-subsection-menu\">\\n                                \\n                                <text>Financial Assistance</text>\\n                                \\n                                \\n                                \\n                                <div class=\"nav-mobile-subsection-link\">\\n                                    \\n                                    <a href=/education/undergraduate/scholarship-information/ onclick=\"closeMobileMenu()\">Scholarships for Undergraduates</a>\\n                                    \\n                                </div>\\n                                \\n                                \\n                                \\n                                <div class=\"nav-mobile-subsection-link\">\\n                                    \\n                                    <a href=https://gradstudies.byu.edu/admissions/costs-financial-aid onclick=\"closeMobileMenu()\">Graduate Financial Aid</a>\\n                                    \\n                                </div>\\n                                \\n                                \\n                                \\n                                \\n                            </div>\\n                        </div>\\n                        \\n                    \\n                        \\n                        <button class=\"nav-mobile-main-button\" onclick=\"openSubsec(this)\">\\n                            <text>Resources</text>\\n                            <img class=\"gray-filter\" src=\"/static/core/img/icon-angle-right.svg\"/>\\n                        </button>\\n                        \\n                        <div class=\"mobile-menu-subsection-slideout\">\\n                            \\n                            <button class=\"nav-mobile-subsection-back-button\" onclick=\"closeSubsec(this)\">\\n                                <img class=\"gray-filter\" src=\"/static/core/img/icon-back-arrow.svg\"/>\\n                                <text>Back</text>\\n                            </button>\\n                            \\n                            <hr/>\\n                            \\n                            <div class=\"mobile-menu-subsection-menu\">\\n                                \\n                                <text>Resources</text>\\n                                \\n                                \\n                                \\n                                <div class=\"nav-mobile-subsection-link\">\\n                                    \\n                                    <a href=https://inclusion.cs.byu.edu/ onclick=\"closeMobileMenu()\">Inclusion, Diversity, &amp; Equity</a>\\n                                    \\n                                </div>\\n                                \\n                                \\n                                \\n                                <div class=\"nav-mobile-subsection-link\">\\n                                    \\n                                    <a href=https://science.byu.edu/international-students onclick=\"closeMobileMenu()\">International Students</a>\\n                                    \\n                                </div>\\n                                \\n                                \\n                                \\n                                <div class=\"nav-mobile-subsection-link\">\\n                                    \\n                                    <a href=https://uac.byu.edu/ onclick=\"closeMobileMenu()\">University Accessibility Center</a>\\n                                    \\n                                </div>\\n                                \\n                                \\n                                \\n                                <div class=\"nav-mobile-subsection-link\">\\n                                    \\n                                    <a href=https://yserve.byu.edu/tutoring onclick=\"closeMobileMenu()\">Meet with a Tutor</a>\\n                                    \\n                                </div>\\n                                \\n                                \\n                                \\n                                \\n                                \\n                                <div class=\"nav-mobile-subsection-link\">\\n                                    \\n                                    <a href=/department/contact-us class=\"special\" onclick=\"closeMobileMenu()\">Need Help?</a>\\n                                    \\n                                </div>\\n                                \\n                                \\n                                \\n                                \\n                            </div>\\n                        </div>\\n                        \\n                    \\n                </div>\\n                \\n                <hr/>\\n                <div class=\"nav-mobile-main-section\">\\n                    <text>Student Employment</text>\\n                    \\n                        \\n                        <button class=\"nav-mobile-main-button\" onclick=\"openSubsec(this)\">\\n                            <text>Opportunities</text>\\n                            <img class=\"gray-filter\" src=\"/static/core/img/icon-angle-right.svg\"/>\\n                        </button>\\n                        \\n                        <div class=\"mobile-menu-subsection-slideout\">\\n                            \\n                            <button class=\"nav-mobile-subsection-back-button\" onclick=\"closeSubsec(this)\">\\n                                <img class=\"gray-filter\" src=\"/static/core/img/icon-back-arrow.svg\"/>\\n                                <text>Back</text>\\n                            </button>\\n                            \\n                            <hr/>\\n                            \\n                            <div class=\"mobile-menu-subsection-menu\">\\n                                \\n                                <text>Opportunities</text>\\n                                \\n                                \\n                                \\n                                <div class=\"nav-mobile-subsection-link\">\\n                                    \\n                                    <a href=/employment-info/about-on-campus-jobs/ onclick=\"closeMobileMenu()\">About On-Campus Jobs</a>\\n                                    \\n                                </div>\\n                                \\n                                \\n                                \\n                                <div class=\"nav-mobile-subsection-link\">\\n                                    \\n                                    <a href=/employment/jobs/ onclick=\"closeMobileMenu()\">On-Campus Job Openings</a>\\n                                    \\n                                </div>\\n                                \\n                                \\n                                \\n                                <div class=\"nav-mobile-subsection-link\">\\n                                    \\n                                    <a href=/employment/jobs/ onclick=\"closeMobileMenu()\">Research Lab Openings</a>\\n                                    \\n                                </div>\\n                                \\n                                \\n                                \\n                                <div class=\"nav-mobile-subsection-link\">\\n                                    \\n                                    <a href=/employment-info/internships/ onclick=\"closeMobileMenu()\">Internships</a>\\n                                    \\n                                </div>\\n                                \\n                                \\n                                \\n                                \\n                            </div>\\n                        </div>\\n                        \\n                    \\n                        \\n                        <button class=\"nav-mobile-main-button\" onclick=\"openSubsec(this)\">\\n                            <text>Career Resources</text>\\n                            <img class=\"gray-filter\" src=\"/static/core/img/icon-angle-right.svg\"/>\\n                        </button>\\n                        \\n                        <div class=\"mobile-menu-subsection-slideout\">\\n                            \\n                            <button class=\"nav-mobile-subsection-back-button\" onclick=\"closeSubsec(this)\">\\n                                <img class=\"gray-filter\" src=\"/static/core/img/icon-back-arrow.svg\"/>\\n                                <text>Back</text>\\n                            </button>\\n                            \\n                            <hr/>\\n                            \\n                            <div class=\"mobile-menu-subsection-menu\">\\n                                \\n                                <text>Career Resources</text>\\n                                \\n                                \\n                                \\n                                <div class=\"nav-mobile-subsection-link\">\\n                                    \\n                                    <a href=https://science.byu.edu/career onclick=\"closeMobileMenu()\">Contact a Career Advisor</a>\\n                                    \\n                                </div>\\n                                \\n                                \\n                                \\n                                <div class=\"nav-mobile-subsection-link\">\\n                                    \\n                                    <a href=/employment-info/about-on-campus-jobs/ onclick=\"closeMobileMenu()\">About On-Campus Jobs</a>\\n                                    \\n                                </div>\\n                                \\n                                \\n                                \\n                                <div class=\"nav-mobile-subsection-link\">\\n                                    \\n                                    <a href=https://careers.byu.edu/students/job-search-resources/handshake onclick=\"closeMobileMenu()\">Join BYU Handshake</a>\\n                                    \\n                                </div>\\n                                \\n                                \\n                                \\n                                <div class=\"nav-mobile-subsection-link\">\\n                                    \\n                                    <a href=https://careers.byu.edu/students/hiring-resources onclick=\"closeMobileMenu()\">Resume &amp; Cover Letter Help</a>\\n                                    \\n                                </div>\\n                                \\n                                \\n                                \\n                                <div class=\"nav-mobile-subsection-link\">\\n                                    \\n                                    <a href=https://science.byu.edu/news-archive/how-to-prepare-for-the-stem-fair-2016 onclick=\"closeMobileMenu()\">About the STEM Fair</a>\\n                                    \\n                                </div>\\n                                \\n                                \\n                                \\n                                \\n                            </div>\\n                        </div>\\n                        \\n                    \\n                </div>\\n                \\n                <hr/>\\n                <div class=\"nav-mobile-main-section\">\\n                    <text>Community</text>\\n                    \\n                        \\n                        <button class=\"nav-mobile-main-button\" onclick=\"openSubsec(this)\">\\n                            <text>Students</text>\\n                            <img class=\"gray-filter\" src=\"/static/core/img/icon-angle-right.svg\"/>\\n                        </button>\\n                        \\n                        <div class=\"mobile-menu-subsection-slideout\">\\n                            \\n                            <button class=\"nav-mobile-subsection-back-button\" onclick=\"closeSubsec(this)\">\\n                                <img class=\"gray-filter\" src=\"/static/core/img/icon-back-arrow.svg\"/>\\n                                <text>Back</text>\\n                            </button>\\n                            \\n                            <hr/>\\n                            \\n                            <div class=\"mobile-menu-subsection-menu\">\\n                                \\n                                <text>Students</text>\\n                                \\n                                \\n                                \\n                                <div class=\"nav-mobile-subsection-link\">\\n                                    \\n                                    <a href=/community/students/clubs/ onclick=\"closeMobileMenu()\">Clubs</a>\\n                                    \\n                                </div>\\n                                \\n                                \\n                                \\n                                \\n                                \\n                                <div class=\"nav-mobile-subsection-link\">\\n                                    \\n                                    <a href=https://inclusion.cs.byu.edu/ onclick=\"closeMobileMenu()\">Inclusion, Diversity, &amp; Equity</a>\\n                                    \\n                                </div>\\n                                \\n                                \\n                                \\n                                <div class=\"nav-mobile-subsection-link\">\\n                                    \\n                                    <a href=https://science.byu.edu/international-students onclick=\"closeMobileMenu()\">International Students</a>\\n                                    \\n                                </div>\\n                                \\n                                \\n                                \\n                                <div class=\"nav-mobile-subsection-link\">\\n                                    \\n                                    <a href=/community/students/demographics/ onclick=\"closeMobileMenu()\">Student Demographics</a>\\n                                    \\n                                </div>\\n                                \\n                                \\n                                \\n                                <div class=\"nav-mobile-subsection-link\">\\n                                    \\n                                    <a href=https://science.byu.edu/deans-list-archive onclick=\"closeMobileMenu()\">Student Awards</a>\\n                                    \\n                                </div>\\n                                \\n                                \\n                                \\n                                \\n                            </div>\\n                        </div>\\n                        \\n                    \\n                        \\n                        <button class=\"nav-mobile-main-button\" onclick=\"openSubsec(this)\">\\n                            <text>Alumni</text>\\n                            <img class=\"gray-filter\" src=\"/static/core/img/icon-angle-right.svg\"/>\\n                        </button>\\n                        \\n                        <div class=\"mobile-menu-subsection-slideout\">\\n                            \\n                            <button class=\"nav-mobile-subsection-back-button\" onclick=\"closeSubsec(this)\">\\n                                <img class=\"gray-filter\" src=\"/static/core/img/icon-back-arrow.svg\"/>\\n                                <text>Back</text>\\n                            </button>\\n                            \\n                            <hr/>\\n                            \\n                            <div class=\"mobile-menu-subsection-menu\">\\n                                \\n                                <text>Alumni</text>\\n                                \\n                                \\n                                \\n                                <div class=\"nav-mobile-subsection-link\">\\n                                    \\n                                    <a href=/community/alumni/get-involved/ onclick=\"closeMobileMenu()\">How to Get Involved</a>\\n                                    \\n                                </div>\\n                                \\n                                \\n                                \\n                                <div class=\"nav-mobile-subsection-link\">\\n                                    \\n                                    <a href=/community/alumni/awards/ onclick=\"closeMobileMenu()\">Alumni Awards</a>\\n                                    \\n                                </div>\\n                                \\n                                \\n                                \\n                                \\n                            </div>\\n                        </div>\\n                        \\n                        <button class=\"nav-mobile-main-button\" onclick=\"openSubsec(this)\">\\n                            <text>Companies</text>\\n                            <img class=\"gray-filter\" src=\"/static/core/img/icon-angle-right.svg\"/>\\n                        </button>\\n                        \\n                        <div class=\"mobile-menu-subsection-slideout\">\\n                            \\n                            <button class=\"nav-mobile-subsection-back-button\" onclick=\"closeSubsec(this)\">\\n                                <img class=\"gray-filter\" src=\"/static/core/img/icon-back-arrow.svg\"/>\\n                                <text>Back</text>\\n                            </button>\\n                            \\n                            <hr/>\\n                            \\n                            <div class=\"mobile-menu-subsection-menu\">\\n                                \\n                                <text>Companies</text>\\n                                \\n                                \\n                                \\n                                <div class=\"nav-mobile-subsection-link\">\\n                                    \\n                                    <a href=/community/companies/partner-with-us/ onclick=\"closeMobileMenu()\">Partner With Us</a>\\n                                    \\n                                </div>\\n                                \\n                                \\n                                \\n                                <div class=\"nav-mobile-subsection-link\">\\n                                    \\n                                    <a href=/community/companies/recruit-our-students/ onclick=\"closeMobileMenu()\">Recruit Our Students</a>\\n                                    \\n                                </div>\\n                                \\n                                \\n                                \\n                                <div class=\"nav-mobile-subsection-link\">\\n                                    \\n                                    <a href=/community/companies/sponsor-capstone/ onclick=\"closeMobileMenu()\">Sponsor a Capstone</a>\\n                                    \\n                                </div>\\n                                \\n                                \\n                                \\n                                <div class=\"nav-mobile-subsection-link\">\\n                                    \\n                                    <a href=https://careers.byu.edu/students/job-search-resources/handshake onclick=\"closeMobileMenu()\">Join BYU Handshake</a>\\n                                    \\n                                </div>\\n                                \\n                                \\n                                \\n                                <div class=\"nav-mobile-subsection-link\">\\n                                    \\n                                    <a href=https://ces.peoplegrove.com/hub/byu/ onclick=\"closeMobileMenu()\">Join BYU Connect</a>\\n                                    \\n                                </div>\\n                                \\n                                \\n                                \\n                                <div class=\"nav-mobile-subsection-link\">\\n                                    \\n                                    <a href=/department/contact-us class=\"special\" onclick=\"closeMobileMenu()\">Contact Us</a>\\n                                    \\n                                </div>\\n                                \\n                                \\n                                \\n                                \\n                            </div>\\n                        </div>\\n                        \\n                    \\n                </div>\\n                \\n                <hr/>\\n                <div class=\"nav-mobile-main-section\">\\n                    <text>Department</text>\\n                    \\n                        \\n                        <button class=\"nav-mobile-main-button\" onclick=\"openSubsec(this)\">\\n                            <text>About</text>\\n                            <img class=\"gray-filter\" src=\"/static/core/img/icon-angle-right.svg\"/>\\n                        </button>\\n                        \\n                        <div class=\"mobile-menu-subsection-slideout\">\\n                            \\n                            <button class=\"nav-mobile-subsection-back-button\" onclick=\"closeSubsec(this)\">\\n                                <img class=\"gray-filter\" src=\"/static/core/img/icon-back-arrow.svg\"/>\\n                                <text>Back</text>\\n                            </button>\\n                            \\n                            <hr/>\\n                            \\n                            <div class=\"mobile-menu-subsection-menu\">\\n                                \\n                                <text>About</text>\\n                                \\n                                \\n                                \\n                                <div class=\"nav-mobile-subsection-link\">\\n                                    \\n                                    <a href=/department/about/ onclick=\"closeMobileMenu()\">About Us</a>\\n                                    \\n                                </div>\\n                                \\n                                \\n                                \\n                                <div class=\"nav-mobile-subsection-link\">\\n                                    \\n                                    <a href=/department/directory/ onclick=\"closeMobileMenu()\">Faculty/Staff Directory</a>\\n                                    \\n                                </div>\\n                                \\n                                \\n                                \\n                                <div class=\"nav-mobile-subsection-link\">\\n                                    \\n                                    <a href=/department/faculty-and-staff-positions/ onclick=\"closeMobileMenu()\">Position Openings for Faculty/Staff</a>\\n                                    \\n                                </div>\\n                                \\n                                \\n                                \\n                                <div class=\"nav-mobile-subsection-link\">\\n                                    \\n                                    <a href=/department/contact-us class=\"special\" onclick=\"closeMobileMenu()\">Contact Us</a>\\n                                    \\n                                </div>\\n                                \\n                                \\n                                \\n                                \\n                            </div>\\n                        </div>\\n                        \\n                        <button class=\"nav-mobile-main-button\" onclick=\"openSubsec(this)\">\\n                            <text>Research</text>\\n                            <img class=\"gray-filter\" src=\"/static/core/img/icon-angle-right.svg\"/>\\n                        </button>\\n                        \\n                        <div class=\"mobile-menu-subsection-slideout\">\\n                            \\n                            <button class=\"nav-mobile-subsection-back-button\" onclick=\"closeSubsec(this)\">\\n                                <img class=\"gray-filter\" src=\"/static/core/img/icon-back-arrow.svg\"/>\\n                                <text>Back</text>\\n                            </button>\\n                            \\n                            <hr/>\\n                            \\n                            <div class=\"mobile-menu-subsection-menu\">\\n                                \\n                                <text>Research</text>\\n                                \\n                                \\n                                \\n                                <div class=\"nav-mobile-subsection-link\">\\n                                    \\n                                    <a href=/department/research/about/ onclick=\"closeMobileMenu()\">About Our Research</a>\\n                                    \\n                                </div>\\n                                \\n                                \\n                                \\n                                <div class=\"nav-mobile-subsection-link\">\\n                                    \\n                                    <a href=/projects/ onclick=\"closeMobileMenu()\">Research Labs</a>\\n                                    \\n                                </div>\\n                                \\n                                \\n                                \\n                                <div class=\"nav-mobile-subsection-link\">\\n                                    \\n                                    <a href=/employment/jobs/ onclick=\"closeMobileMenu()\">Student Research Lab Openings</a>\\n                                    \\n                                </div>\\n                                \\n                                \\n                                \\n                                \\n                            </div>\\n                        </div>\\n                        \\n                    \\n                </div>\\n                \\n                <hr/>\\n                <div class=\"nav-mobile-main-section\">\\n                    <text>Events &amp; News</text>\\n                    \\n                        \\n                        <button class=\"nav-mobile-main-button\" onclick=\"openSubsec(this)\">\\n                            <text>Events</text>\\n                            <img class=\"gray-filter\" src=\"/static/core/img/icon-angle-right.svg\"/>\\n                        </button>\\n                        \\n                        <div class=\"mobile-menu-subsection-slideout\">\\n                            \\n                            <button class=\"nav-mobile-subsection-back-button\" onclick=\"closeSubsec(this)\">\\n                                <img class=\"gray-filter\" src=\"/static/core/img/icon-back-arrow.svg\"/>\\n                                <text>Back</text>\\n                            </button>\\n                            \\n                            <hr/>\\n                            \\n                            <div class=\"mobile-menu-subsection-menu\">\\n                                \\n                                <text>Events</text>\\n                                \\n                                \\n                                \\n                                <div class=\"nav-mobile-subsection-link\">\\n                                    \\n                                    <a href=/events/ onclick=\"closeMobileMenu()\">Upcoming Events</a>\\n                                    \\n                                </div>\\n                                \\n                                \\n                                \\n                                <div class=\"nav-mobile-subsection-link\">\\n                                    \\n                                    <a href=/events/seminar-series/ onclick=\"closeMobileMenu()\">Seminar Series</a>\\n                                    \\n                                </div>\\n                                \\n                                \\n                                \\n                                <div class=\"nav-mobile-subsection-link\">\\n                                    \\n                                    <a href=https://science.byu.edu/news-archive/how-to-prepare-for-the-stem-fair-2016 onclick=\"closeMobileMenu()\">About the STEM Fair</a>\\n                                    \\n                                </div>\\n                                \\n                                \\n                                \\n                                \\n                            </div>\\n                        </div>\\n                        \\n                        <button class=\"nav-mobile-main-button\" onclick=\"openSubsec(this)\">\\n                            <text>News</text>\\n                            <img class=\"gray-filter\" src=\"/static/core/img/icon-angle-right.svg\"/>\\n                        </button>\\n                        \\n                        <div class=\"mobile-menu-subsection-slideout\">\\n                            \\n                            <button class=\"nav-mobile-subsection-back-button\" onclick=\"closeSubsec(this)\">\\n                                <img class=\"gray-filter\" src=\"/static/core/img/icon-back-arrow.svg\"/>\\n                                <text>Back</text>\\n                            </button>\\n                            \\n                            <hr/>\\n                            \\n                            <div class=\"mobile-menu-subsection-menu\">\\n                                \\n                                <text>News</text>\\n                                \\n                                \\n                                \\n                                <div class=\"nav-mobile-subsection-link\">\\n                                    \\n                                    <a href=/news/ onclick=\"closeMobileMenu()\">Recent News</a>\\n                                    \\n                                </div>\\n                                \\n                                \\n                                \\n                                <div class=\"nav-mobile-subsection-link\">\\n                                    \\n                                    <a href=https://science.byu.edu/deans-list-archive onclick=\"closeMobileMenu()\">Student Awards</a>\\n                                    \\n                                </div>\\n                                \\n                                \\n                                \\n                                \\n                            </div>\\n                        </div>\\n                        \\n                    \\n                </div>\\n                \\n                \\n                \\n                <hr/>\\n            \\n                \\n                <div id=\"donate-button-div\">\\n                    <a id=\"donate-button\"\\n                        href=\"https://donate.churchofjesuschrist.org/donations/byu/physical-mathematical-sciences/computer-science\">Donate</a>\\n                </div>\\n            \\n            </div>\\n        </div>\\n    </div>\\n</div>\\n</div>\\n\\n<script src=\"/static/core/js/menu-handling.js\"></script>\\n\\n\\n</header>\\n\\n    <div class=\"flex-container\">\\n  \\n\\n\\n<div class=\"detail-hero\">\\n  <div class=\"page-content fixed-aside-container\">\\n    <div class=\"detail-hero-img\">\\n      \\n      \\n        <img src=\"/media/images/Warnick_Sean_01.1a6dff02.fill-720x720-c100.jpg\" alt=\"Sean_Warnick.jpg\" />\\n      \\n    </div>\\n    <div class=\"detail-hero-body\">\\n      <h1>Sean Warnick</h1>\\n      <div class=\"detail-hero-subtitle\">Professor</div>\\n      <p>\\n        2222 TMCB<br>\\n        \\n          Office Hours: By Appointment<br>\\n        \\n        \\n          Phone: 801-422-6463<br><br>\\n        \\n        sean@cs.byu.edu<br>\\n        \\n      </p>\\n    </div>\\n  </div>\\n</div>\\n\\n\\n  <div class=\"page-content main-content fixed-aside-container\">\\n\\n    \\n    <section id=\"classes\">\\n      <div class=\"section-header section-header--no-border\">\\n  <h2>Classes</h2>\\n</div>\\n\\n<div class=\"table-overflow\">\\n  <table>\\n    <thead>\\n      <tr>\\n        <th>Course</th>\\n        <th>Title</th>\\n        <th>Semester</th>\\n      </tr>\\n    </thead>\\n    <tbody>\\n      \\n        \\n          <tr>\\n            <td>C S 142</td>\\n            <td>Intro to Computer Programming</td>\\n            <td>Winter 2021</td>\\n          </tr>\\n        \\n          <tr>\\n            <td>C S 513</td>\\n            <td>Robust Control</td>\\n            <td>Winter 2021</td>\\n          </tr>\\n        \\n          <tr>\\n            <td>C S 580</td>\\n            <td>Theory of Predictive Modeling </td>\\n            <td>Fall 2022</td>\\n          </tr>\\n        \\n          <tr>\\n            <td>PHSCS 513R</td>\\n            <td>Spec Topics in Contemp Phsc</td>\\n            <td>Fall 2022</td>\\n          </tr>\\n        \\n      \\n    </tbody>\\n  </table>\\n</div>\\n\\n    </section>\\n    \\n    \\n    <section id=\"bio\">\\n      <h2>Biography</h2>\\n<p>Sean Warnick received his Ph.D. and S.M. degrees from the Massachusetts Institute of Technology in 1995 and 2003, respectively, and his B.S.E. from Arizona State University in 1993. He attended ASU on scholarship from the Flinn Foundation, graduated summa cum laude, and was named the Outstanding Graduate of the College of Engineering and Applied Sciences. He has also held visiting positions from Cambridge University (2006), the University of Maryland at College Park (2008), and the University of Luxembourg&#39;s Centre for Systems Biomedicine (2014). Sean was named the Distinguished Visiting Professor by the National Security Agency three years in a row, 2008-2010, for his work with their Summer Program for Operations Research Technology, and he maintains strong industrial partnerships, consulting with various companies.</p>\\n\\n    </section>\\n    \\n    \\n    \\n    <section id=\"projects\">\\n      \\n\\n\\n<h2>Areas</h2>\\n<div class=\"grid-3 cards\">\\n  \\n  <div class=\"card center-text\">\\n    <div class=\"card-img\">\\n      \\n        \\n        <img src=\"/media/images/Screen_Shot_2021-03-23_at_1.11.22_PM.original.png\" alt=\"Screen Shot 2021-03-23 at 1.11.22 PM.png\" />\\n      \\n    </div>\\n    <div class=\"card-header\">Computational Creativity and Control</div>\\n    <div class=\"card-body\">\\n     \\n    </div>\\n    <div class=\"card-footer\">\\n      <a href=\"/projects/computational-science-and-control/\">Overview</a>\\n    </div>\\n  </div>\\n  \\n  <div class=\"card center-text\">\\n    <div class=\"card-img\">\\n      \\n        \\n        <img src=\"/media/images/creation_large2.original_FSp3CoB.jpg\" alt=\"creation_large2.jpg\" />\\n      \\n    </div>\\n    <div class=\"card-header\">Data and Text Analytics</div>\\n    <div class=\"card-body\">\\n     \\n    </div>\\n    <div class=\"card-footer\">\\n      <a href=\"/projects/data-and-text-analytics/\">Overview</a>\\n    </div>\\n  </div>\\n  \\n  <div class=\"card center-text\">\\n    <div class=\"card-img\">\\n      \\n        \\n        <img src=\"/media/images/netsec.original_H2gQG9c.jpg\" alt=\"netsec.jpg\" />\\n      \\n    </div>\\n    <div class=\"card-header\">Computer Networks, Systems, and Security</div>\\n    <div class=\"card-body\">\\n     \\n    </div>\\n    <div class=\"card-footer\">\\n      <a href=\"/projects/computer-networks-systems-and-security/\">Overview</a>\\n    </div>\\n  </div>\\n  \\n  <div class=\"card center-text\">\\n    <div class=\"card-img\">\\n      \\n        \\n        <img src=\"/media/images/machlearn.original_T3tmx3y.jpg\" alt=\"machlearn.jpg\" />\\n      \\n    </div>\\n    <div class=\"card-header\">Artificial Intelligence and Machine Learning</div>\\n    <div class=\"card-body\">\\n     \\n    </div>\\n    <div class=\"card-footer\">\\n      <a href=\"/projects/artificial-intelligence-and-machine-learning/\">Overview</a>\\n    </div>\\n  </div>\\n  \\n</div>\\n\\n    </section>\\n    \\n\\n    \\n    <section id=\"students\">\\n      \\n\\n<h2>Students</h2>\\n<div class=\"grid-4\">\\n  \\n    <div class=\"card\">\\n      \\n      <div class=\"card-title\">Michael DeBuse</div>\\n      \\n        <div class=\"card-subtitle\">PhD</div>\\n      \\n    </div>\\n  \\n    <div class=\"card\">\\n      \\n      <div class=\"card-title\">Neal Munson</div>\\n      \\n        <div class=\"card-subtitle\">MS</div>\\n      \\n    </div>\\n  \\n    <div class=\"card\">\\n      \\n      <div class=\"card-title\">Logan Nielsen</div>\\n      \\n        <div class=\"card-subtitle\">MS</div>\\n      \\n    </div>\\n  \\n    <div class=\"card\">\\n      \\n      <div class=\"card-title\">Alyssa Crezee</div>\\n      \\n        <div class=\"card-subtitle\">Research Assistant, Entry</div>\\n      \\n    </div>\\n  \\n    <div class=\"card\">\\n      \\n      <div class=\"card-title\">Caelen Miller</div>\\n      \\n        <div class=\"card-subtitle\">Research Assistant, Entry</div>\\n      \\n    </div>\\n  \\n    <div class=\"card\">\\n      \\n      <div class=\"card-title\">Kimley Morlant</div>\\n      \\n        <div class=\"card-subtitle\">Research Assistant, Entry</div>\\n      \\n    </div>\\n  \\n    <div class=\"card\">\\n      \\n      <div class=\"card-title\">Fritz-Carl Morlant</div>\\n      \\n        <div class=\"card-subtitle\">Research Assistant, Entry</div>\\n      \\n    </div>\\n  \\n    <div class=\"card\">\\n      \\n      <div class=\"card-title\">Joseph Mattson</div>\\n      \\n        <div class=\"card-subtitle\">Research Assistant, Entry</div>\\n      \\n    </div>\\n  \\n    <div class=\"card\">\\n      \\n      <div class=\"card-title\">Sean Gallacher</div>\\n      \\n        <div class=\"card-subtitle\">Research Assistant, Entry</div>\\n      \\n    </div>\\n  \\n    <div class=\"card\">\\n      \\n      <div class=\"card-title\">Koby Lewis</div>\\n      \\n        <div class=\"card-subtitle\">Research Assistant, Advanced</div>\\n      \\n    </div>\\n  \\n    <div class=\"card\">\\n      \\n      <div class=\"card-title\">Tanner Day</div>\\n      \\n        <div class=\"card-subtitle\">Research Assistant, Advanced</div>\\n      \\n    </div>\\n  \\n    <div class=\"card\">\\n      \\n      <div class=\"card-title\">Maxwell Hamilton</div>\\n      \\n        <div class=\"card-subtitle\">Research Assistant, Mid-level</div>\\n      \\n    </div>\\n  \\n    <div class=\"card\">\\n      \\n      <div class=\"card-title\">Michael King</div>\\n      \\n        <div class=\"card-subtitle\">Research Assistant, Leadership</div>\\n      \\n    </div>\\n  \\n    <div class=\"card\">\\n      \\n      <div class=\"card-title\">Abram Aanderud</div>\\n      \\n        <div class=\"card-subtitle\">Research Assistant, Entry</div>\\n      \\n    </div>\\n  \\n</div>\\n\\n    </section>\\n    \\n\\n    \\n\\n    \\n\\n  </div>\\n\\n  \\n\\n\\n<div class=\"fixed-aside\">\\n  <nav class=\"fixed-side-nav\">\\n\\n    \\n    <a href=\"#classes\">Classes</a>\\n    \\n        \\n    <a href=\"#bio\">Biography</a>\\n    \\n    \\n    <a href=\"#projects\">Projects</a>\\n    \\n\\n    \\n      <a href=\"#students\">Students</a>\\n    \\n\\n    \\n\\n    \\n\\n  </nav>\\n</div>\\n\\n\\n</div>\\n\\n    <footer>\\n\\n<byu-footer full-width>\\n  <byu-footer-column>\\n    <span slot=\"header\">Contact</span>\\n    <a href=\"https://goo.gl/maps/CnjdBe74jKiNKzAQ6\"\\n      >3361 Talmage Math & Computer Science Building</a\\n    >\\n    <p>\\n      Email: <a href=\"mailto:csoffice@cs.byu.edu\">csoffice@cs.byu.edu</a>\\n    </p>\\n    <p>Phone: <a href=\"tel:18014223027\">(801) 422-3027</a></p>\\n  </byu-footer-column>\\n\\n  <byu-footer-column>\\n    <span slot=\"header\">Social Links</span>\\n    <byu-social-media-links>\\n      <a class=\"facebook\" href=\"https://www.facebook.com/byucs\"></a>\\n      <a class=\"twitter\" href=\"https://twitter.com/byucs\"></a>\\n      <a class=\"instagram\" href=\"https://www.instagram.com/byucompsci/\"></a>\\n    </byu-social-media-links>\\n  </byu-footer-column>\\n\\n  <byu-footer-column>\\n    <span slot=\"header\">Favorites</span>\\n    <a href=\"https://donate.churchofjesuschrist.org/donations/byu/physical-mathematical-sciences/computer-science\">Donate</a>\\n    <a href=\"/department/directory/\">Directory</a>\\n    <a href=\"/department/research/about/\">Our Research</a>\\n    <a href=\"http://cpms.byu.edu/\"\\n      >College of Physical and Mathematical Sciences</a\\n    >\\n  </byu-footer-column>\\n\\n  <byu-footer-column>\\n    <span slot=\"header\">Additional Links</span>\\n    <a href=\"https://docs.cs.byu.edu/doku.php?id=start\">CS Account Help</a>\\n    <a href=\"http://guides.lib.byu.edu/c.php?g=216414\">HBLL CS Research Resources</a>\\n    <a href=\"mailto: webmasters@cs.byu.edu\">Give Feedback</a>\\n  </byu-footer-column>\\n</byu-footer>\\n</footer>\\n     \\n  </body>\\n</html>\\n'"
      ]
     },
     "execution_count": 70,
     "metadata": {},
     "output_type": "execute_result"
    }
   ],
   "source": [
    "page.text"
   ]
  },
  {
   "cell_type": "code",
   "execution_count": 71,
   "id": "b571d1dc",
   "metadata": {},
   "outputs": [],
   "source": [
    "soup = BeautifulSoup(page.text,'html.parser')"
   ]
  },
  {
   "cell_type": "code",
   "execution_count": 72,
   "id": "10395b63",
   "metadata": {},
   "outputs": [
    {
     "name": "stdout",
     "output_type": "stream",
     "text": [
      "\n",
      "Students\n",
      "\n",
      "\n",
      "Michael DeBuse\n",
      "PhD\n",
      "\n",
      "\n",
      "Neal Munson\n",
      "MS\n",
      "\n",
      "\n",
      "Logan Nielsen\n",
      "MS\n",
      "\n",
      "\n",
      "Alyssa Crezee\n",
      "Research Assistant, Entry\n",
      "\n",
      "\n",
      "Caelen Miller\n",
      "Research Assistant, Entry\n",
      "\n",
      "\n",
      "Kimley Morlant\n",
      "Research Assistant, Entry\n",
      "\n",
      "\n",
      "Fritz-Carl Morlant\n",
      "Research Assistant, Entry\n",
      "\n",
      "\n",
      "Joseph Mattson\n",
      "Research Assistant, Entry\n",
      "\n",
      "\n",
      "Sean Gallacher\n",
      "Research Assistant, Entry\n",
      "\n",
      "\n",
      "Koby Lewis\n",
      "Research Assistant, Advanced\n",
      "\n",
      "\n",
      "Tanner Day\n",
      "Research Assistant, Advanced\n",
      "\n",
      "\n",
      "Maxwell Hamilton\n",
      "Research Assistant, Mid-level\n",
      "\n",
      "\n",
      "Michael King\n",
      "Research Assistant, Leadership\n",
      "\n",
      "\n",
      "Abram Aanderud\n",
      "Research Assistant, Entry\n",
      "\n",
      "\n",
      "\n"
     ]
    }
   ],
   "source": [
    "elements = soup.findAll(id=\"students\")\n",
    "listie = []\n",
    "for i in elements:\n",
    "    print(i.getText())\n",
    "    listie.append(i.getText().split(\"\\n\"))\n",
    "    "
   ]
  },
  {
   "cell_type": "code",
   "execution_count": 73,
   "id": "19f9866f",
   "metadata": {},
   "outputs": [
    {
     "data": {
      "text/plain": [
       "[['',\n",
       "  'Students',\n",
       "  '',\n",
       "  '',\n",
       "  'Michael DeBuse',\n",
       "  'PhD',\n",
       "  '',\n",
       "  '',\n",
       "  'Neal Munson',\n",
       "  'MS',\n",
       "  '',\n",
       "  '',\n",
       "  'Logan Nielsen',\n",
       "  'MS',\n",
       "  '',\n",
       "  '',\n",
       "  'Alyssa Crezee',\n",
       "  'Research Assistant, Entry',\n",
       "  '',\n",
       "  '',\n",
       "  'Caelen Miller',\n",
       "  'Research Assistant, Entry',\n",
       "  '',\n",
       "  '',\n",
       "  'Kimley Morlant',\n",
       "  'Research Assistant, Entry',\n",
       "  '',\n",
       "  '',\n",
       "  'Fritz-Carl Morlant',\n",
       "  'Research Assistant, Entry',\n",
       "  '',\n",
       "  '',\n",
       "  'Joseph Mattson',\n",
       "  'Research Assistant, Entry',\n",
       "  '',\n",
       "  '',\n",
       "  'Sean Gallacher',\n",
       "  'Research Assistant, Entry',\n",
       "  '',\n",
       "  '',\n",
       "  'Koby Lewis',\n",
       "  'Research Assistant, Advanced',\n",
       "  '',\n",
       "  '',\n",
       "  'Tanner Day',\n",
       "  'Research Assistant, Advanced',\n",
       "  '',\n",
       "  '',\n",
       "  'Maxwell Hamilton',\n",
       "  'Research Assistant, Mid-level',\n",
       "  '',\n",
       "  '',\n",
       "  'Michael King',\n",
       "  'Research Assistant, Leadership',\n",
       "  '',\n",
       "  '',\n",
       "  'Abram Aanderud',\n",
       "  'Research Assistant, Entry',\n",
       "  '',\n",
       "  '',\n",
       "  '']]"
      ]
     },
     "execution_count": 73,
     "metadata": {},
     "output_type": "execute_result"
    }
   ],
   "source": [
    "listie"
   ]
  },
  {
   "cell_type": "code",
   "execution_count": 74,
   "id": "7f7ed642",
   "metadata": {},
   "outputs": [
    {
     "data": {
      "text/plain": [
       "['',\n",
       " 'Students',\n",
       " '',\n",
       " '',\n",
       " 'Michael DeBuse',\n",
       " 'PhD',\n",
       " '',\n",
       " '',\n",
       " 'Neal Munson',\n",
       " 'MS',\n",
       " '',\n",
       " '',\n",
       " 'Logan Nielsen',\n",
       " 'MS',\n",
       " '',\n",
       " '',\n",
       " 'Alyssa Crezee',\n",
       " 'Research Assistant, Entry',\n",
       " '',\n",
       " '',\n",
       " 'Caelen Miller',\n",
       " 'Research Assistant, Entry',\n",
       " '',\n",
       " '',\n",
       " 'Kimley Morlant',\n",
       " 'Research Assistant, Entry',\n",
       " '',\n",
       " '',\n",
       " 'Fritz-Carl Morlant',\n",
       " 'Research Assistant, Entry',\n",
       " '',\n",
       " '',\n",
       " 'Joseph Mattson',\n",
       " 'Research Assistant, Entry',\n",
       " '',\n",
       " '',\n",
       " 'Sean Gallacher',\n",
       " 'Research Assistant, Entry',\n",
       " '',\n",
       " '',\n",
       " 'Koby Lewis',\n",
       " 'Research Assistant, Advanced',\n",
       " '',\n",
       " '',\n",
       " 'Tanner Day',\n",
       " 'Research Assistant, Advanced',\n",
       " '',\n",
       " '',\n",
       " 'Maxwell Hamilton',\n",
       " 'Research Assistant, Mid-level',\n",
       " '',\n",
       " '',\n",
       " 'Michael King',\n",
       " 'Research Assistant, Leadership',\n",
       " '',\n",
       " '',\n",
       " 'Abram Aanderud',\n",
       " 'Research Assistant, Entry',\n",
       " '',\n",
       " '',\n",
       " '']"
      ]
     },
     "execution_count": 74,
     "metadata": {},
     "output_type": "execute_result"
    }
   ],
   "source": [
    "original_list = listie[0]\n",
    "original_list"
   ]
  },
  {
   "cell_type": "code",
   "execution_count": 75,
   "id": "a55a2e4a",
   "metadata": {},
   "outputs": [
    {
     "data": {
      "text/plain": [
       "['Students',\n",
       " 'Michael DeBuse',\n",
       " 'PhD',\n",
       " 'Neal Munson',\n",
       " 'MS',\n",
       " 'Logan Nielsen',\n",
       " 'MS',\n",
       " 'Alyssa Crezee',\n",
       " 'Research Assistant, Entry',\n",
       " 'Caelen Miller',\n",
       " 'Research Assistant, Entry',\n",
       " 'Kimley Morlant',\n",
       " 'Research Assistant, Entry',\n",
       " 'Fritz-Carl Morlant',\n",
       " 'Research Assistant, Entry',\n",
       " 'Joseph Mattson',\n",
       " 'Research Assistant, Entry',\n",
       " 'Sean Gallacher',\n",
       " 'Research Assistant, Entry',\n",
       " 'Koby Lewis',\n",
       " 'Research Assistant, Advanced',\n",
       " 'Tanner Day',\n",
       " 'Research Assistant, Advanced',\n",
       " 'Maxwell Hamilton',\n",
       " 'Research Assistant, Mid-level',\n",
       " 'Michael King',\n",
       " 'Research Assistant, Leadership',\n",
       " 'Abram Aanderud',\n",
       " 'Research Assistant, Entry']"
      ]
     },
     "execution_count": 75,
     "metadata": {},
     "output_type": "execute_result"
    }
   ],
   "source": [
    "new_list = [x for x in original_list if x != '']\n",
    "new_list"
   ]
  },
  {
   "cell_type": "code",
   "execution_count": 76,
   "id": "139c4c8c",
   "metadata": {},
   "outputs": [
    {
     "data": {
      "text/plain": [
       "['Michael DeBuse',\n",
       " 'PhD',\n",
       " 'Neal Munson',\n",
       " 'MS',\n",
       " 'Logan Nielsen',\n",
       " 'MS',\n",
       " 'Alyssa Crezee',\n",
       " 'Research Assistant, Entry',\n",
       " 'Caelen Miller',\n",
       " 'Research Assistant, Entry',\n",
       " 'Kimley Morlant',\n",
       " 'Research Assistant, Entry',\n",
       " 'Fritz-Carl Morlant',\n",
       " 'Research Assistant, Entry',\n",
       " 'Joseph Mattson',\n",
       " 'Research Assistant, Entry',\n",
       " 'Sean Gallacher',\n",
       " 'Research Assistant, Entry',\n",
       " 'Koby Lewis',\n",
       " 'Research Assistant, Advanced',\n",
       " 'Tanner Day',\n",
       " 'Research Assistant, Advanced',\n",
       " 'Maxwell Hamilton',\n",
       " 'Research Assistant, Mid-level',\n",
       " 'Michael King',\n",
       " 'Research Assistant, Leadership',\n",
       " 'Abram Aanderud',\n",
       " 'Research Assistant, Entry']"
      ]
     },
     "execution_count": 76,
     "metadata": {},
     "output_type": "execute_result"
    }
   ],
   "source": [
    "res = new_list[1:]\n",
    "res"
   ]
  },
  {
   "cell_type": "code",
   "execution_count": 84,
   "id": "1c8597b7",
   "metadata": {},
   "outputs": [
    {
     "name": "stdout",
     "output_type": "stream",
     "text": [
      "{'Michael DeBuse': 'PhD', 'Neal Munson': 'MS', 'Logan Nielsen': 'MS', 'Alyssa Crezee': 'Research Assistant, Entry', 'Caelen Miller': 'Research Assistant, Entry', 'Kimley Morlant': 'Research Assistant, Entry', 'Fritz-Carl Morlant': 'Research Assistant, Entry', 'Joseph Mattson': 'Research Assistant, Entry', 'Sean Gallacher': 'Research Assistant, Entry', 'Koby Lewis': 'Research Assistant, Advanced', 'Tanner Day': 'Research Assistant, Advanced', 'Maxwell Hamilton': 'Research Assistant, Mid-level', 'Michael King': 'Research Assistant, Leadership', 'Abram Aanderud': 'Research Assistant, Entry'}\n"
     ]
    }
   ],
   "source": [
    "convert_list=[]\n",
    "def Convert(lst):\n",
    "    res_dct = {lst[i]: lst[i + 1] for i in range(0, len(lst), 2)}\n",
    "    convert_list.append(res_dct)\n",
    "    return res_dct\n",
    "         \n",
    "print(Convert(res))"
   ]
  },
  {
   "cell_type": "code",
   "execution_count": 85,
   "id": "f61009ea",
   "metadata": {},
   "outputs": [
    {
     "data": {
      "text/plain": [
       "[{'Michael DeBuse': 'PhD',\n",
       "  'Neal Munson': 'MS',\n",
       "  'Logan Nielsen': 'MS',\n",
       "  'Alyssa Crezee': 'Research Assistant, Entry',\n",
       "  'Caelen Miller': 'Research Assistant, Entry',\n",
       "  'Kimley Morlant': 'Research Assistant, Entry',\n",
       "  'Fritz-Carl Morlant': 'Research Assistant, Entry',\n",
       "  'Joseph Mattson': 'Research Assistant, Entry',\n",
       "  'Sean Gallacher': 'Research Assistant, Entry',\n",
       "  'Koby Lewis': 'Research Assistant, Advanced',\n",
       "  'Tanner Day': 'Research Assistant, Advanced',\n",
       "  'Maxwell Hamilton': 'Research Assistant, Mid-level',\n",
       "  'Michael King': 'Research Assistant, Leadership',\n",
       "  'Abram Aanderud': 'Research Assistant, Entry'}]"
      ]
     },
     "execution_count": 85,
     "metadata": {},
     "output_type": "execute_result"
    }
   ],
   "source": [
    "convert_list"
   ]
  },
  {
   "cell_type": "code",
   "execution_count": 86,
   "id": "0dddf93c",
   "metadata": {},
   "outputs": [
    {
     "data": {
      "text/html": [
       "<div>\n",
       "<style scoped>\n",
       "    .dataframe tbody tr th:only-of-type {\n",
       "        vertical-align: middle;\n",
       "    }\n",
       "\n",
       "    .dataframe tbody tr th {\n",
       "        vertical-align: top;\n",
       "    }\n",
       "\n",
       "    .dataframe thead th {\n",
       "        text-align: right;\n",
       "    }\n",
       "</style>\n",
       "<table border=\"1\" class=\"dataframe\">\n",
       "  <thead>\n",
       "    <tr style=\"text-align: right;\">\n",
       "      <th></th>\n",
       "      <th>Michael DeBuse</th>\n",
       "      <th>Neal Munson</th>\n",
       "      <th>Logan Nielsen</th>\n",
       "      <th>Alyssa Crezee</th>\n",
       "      <th>Caelen Miller</th>\n",
       "      <th>Kimley Morlant</th>\n",
       "      <th>Fritz-Carl Morlant</th>\n",
       "      <th>Joseph Mattson</th>\n",
       "      <th>Sean Gallacher</th>\n",
       "      <th>Koby Lewis</th>\n",
       "      <th>Tanner Day</th>\n",
       "      <th>Maxwell Hamilton</th>\n",
       "      <th>Michael King</th>\n",
       "      <th>Abram Aanderud</th>\n",
       "    </tr>\n",
       "  </thead>\n",
       "  <tbody>\n",
       "    <tr>\n",
       "      <th>0</th>\n",
       "      <td>PhD</td>\n",
       "      <td>MS</td>\n",
       "      <td>MS</td>\n",
       "      <td>Research Assistant, Entry</td>\n",
       "      <td>Research Assistant, Entry</td>\n",
       "      <td>Research Assistant, Entry</td>\n",
       "      <td>Research Assistant, Entry</td>\n",
       "      <td>Research Assistant, Entry</td>\n",
       "      <td>Research Assistant, Entry</td>\n",
       "      <td>Research Assistant, Advanced</td>\n",
       "      <td>Research Assistant, Advanced</td>\n",
       "      <td>Research Assistant, Mid-level</td>\n",
       "      <td>Research Assistant, Leadership</td>\n",
       "      <td>Research Assistant, Entry</td>\n",
       "    </tr>\n",
       "  </tbody>\n",
       "</table>\n",
       "</div>"
      ],
      "text/plain": [
       "  Michael DeBuse Neal Munson Logan Nielsen              Alyssa Crezee  \\\n",
       "0            PhD          MS            MS  Research Assistant, Entry   \n",
       "\n",
       "               Caelen Miller             Kimley Morlant  \\\n",
       "0  Research Assistant, Entry  Research Assistant, Entry   \n",
       "\n",
       "          Fritz-Carl Morlant             Joseph Mattson  \\\n",
       "0  Research Assistant, Entry  Research Assistant, Entry   \n",
       "\n",
       "              Sean Gallacher                    Koby Lewis  \\\n",
       "0  Research Assistant, Entry  Research Assistant, Advanced   \n",
       "\n",
       "                     Tanner Day               Maxwell Hamilton  \\\n",
       "0  Research Assistant, Advanced  Research Assistant, Mid-level   \n",
       "\n",
       "                     Michael King             Abram Aanderud  \n",
       "0  Research Assistant, Leadership  Research Assistant, Entry  "
      ]
     },
     "execution_count": 86,
     "metadata": {},
     "output_type": "execute_result"
    }
   ],
   "source": [
    "df = pd.DataFrame.from_dict(convert_list) \n",
    "df"
   ]
  }
 ],
 "metadata": {
  "kernelspec": {
   "display_name": "Python 3 (ipykernel)",
   "language": "python",
   "name": "python3"
  },
  "language_info": {
   "codemirror_mode": {
    "name": "ipython",
    "version": 3
   },
   "file_extension": ".py",
   "mimetype": "text/x-python",
   "name": "python",
   "nbconvert_exporter": "python",
   "pygments_lexer": "ipython3",
   "version": "3.10.7"
  }
 },
 "nbformat": 4,
 "nbformat_minor": 5
}
