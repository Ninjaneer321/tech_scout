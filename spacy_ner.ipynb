{
 "cells": [
  {
   "cell_type": "markdown",
   "metadata": {},
   "source": [
    "# SpaCy Named Entity Recognition (NER) Example\n",
    "Simple NER example.\n",
    "\n",
    "## Installation\n",
    "1. Install spaCy: \n",
    "\n",
    "    `pip install spacy`\n",
    "\n",
    "    If this fails, ensure that you have `pip` or `pip3` installed.\n",
    "\n",
    "2. Install spaCy language model:\n",
    "\n",
    "    `python -m spacy download en_core_web_sm`\n",
    "\n",
    "    If this fails, ensure that you have `python` or `python3` installed.\n",
    "\n",
    "2. Run Jupyter: `jupyter notebook`\n",
    "\n",
    "3. Select and run this file from Jupyter."
   ]
  },
  {
   "cell_type": "code",
   "execution_count": 19,
   "metadata": {},
   "outputs": [],
   "source": [
    "import spacy\n",
    "\n",
    "nlp = spacy.load(\"en_core_web_sm\") "
   ]
  },
  {
   "cell_type": "code",
   "execution_count": 20,
   "metadata": {},
   "outputs": [],
   "source": [
    "text = \"\"\"Ms. Farhana Uddin, an intern with the Department of Homeland Security, gave Steve great news \n",
    "        about the code she developed. She plans to share her developments with others at \n",
    "        the University of Maryland via Twitter.\"\"\""
   ]
  },
  {
   "cell_type": "code",
   "execution_count": 21,
   "metadata": {},
   "outputs": [
    {
     "name": "stdout",
     "output_type": "stream",
     "text": [
      "Entity 'Farhana Uddin' is of type 'PERSON'\n",
      "Entity 'the Department of Homeland Security' is of type 'ORG'\n",
      "Entity 'Steve' is of type 'PERSON'\n",
      "Entity 'the University of Maryland' is of type 'ORG'\n",
      "Entity 'Twitter' is of type 'PRODUCT'\n"
     ]
    }
   ],
   "source": [
    "d = nlp(text)\n",
    "if d.ents:\n",
    "    for entity in d.ents:\n",
    "        print(f\"Entity '{entity}' is of type '{entity.label_}'\")\n"
   ]
  }
 ],
 "metadata": {
  "kernelspec": {
   "display_name": "Python 3.10.6 ('.venv': venv)",
   "language": "python",
   "name": "python3"
  },
  "language_info": {
   "codemirror_mode": {
    "name": "ipython",
    "version": 3
   },
   "file_extension": ".py",
   "mimetype": "text/x-python",
   "name": "python",
   "nbconvert_exporter": "python",
   "pygments_lexer": "ipython3",
   "version": "3.10.6"
  },
  "orig_nbformat": 4,
  "vscode": {
   "interpreter": {
    "hash": "b9217cfbd83c61c810f65951f71541107733f7b399dbf4d5390730f82cee703e"
   }
  }
 },
 "nbformat": 4,
 "nbformat_minor": 2
}
